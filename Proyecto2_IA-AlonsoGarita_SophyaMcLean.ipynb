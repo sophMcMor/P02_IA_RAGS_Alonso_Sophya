{
 "cells": [
  {
   "cell_type": "markdown",
   "metadata": {},
   "source": [
    "# Instituto Tecnológico de Costa Rica\n",
    "## Escuela de Ingeniería en Computación\n",
    "## Inteligencia Artificial\n",
    "\n",
    "### Segundo Proyecto: Chatbot usando RAGS\n",
    "\n",
    "### Profesor:\n",
    "- Kenneth Obando Rodríguez\n",
    "\n",
    "### Estudiantes:\n",
    "- Alonso Garita Granados 2021030220\n",
    "- Sophya Mc Lean Morales 2021461577\n",
    "\n",
    "#### Viernes 09 de junio, I semestre 2024\n",
    "\n",
    "---\n"
   ]
  },
  {
   "cell_type": "markdown",
   "metadata": {},
   "source": [
    "# 1. Intoducción\n",
    "\n",
    "lorem ipsum. (Poner explicación del proyecto)\n"
   ]
  },
  {
   "cell_type": "markdown",
   "metadata": {},
   "source": [
    "# 2. Preparación de la Base de Datos\n",
    "Para este proyecto se ha decidido trabajar con ChromaDB, la cual es una base de datos vectorial de código abierto nativa de IA. Chroma facilita la creación de aplicaciones LLM al hacer que los conocimientos, los hechos y las habilidades se puedan conectar a los LLM."
   ]
  },
  {
   "cell_type": "code",
   "execution_count": 1,
   "metadata": {},
   "outputs": [],
   "source": [
    "## Preparación de la base de datos\n",
    "\n",
    "import chromadb\n",
    "client = chromadb.HttpClient()\n",
    "collection = client.create_collection(\"sample_collection\")\n",
    "\n",
    "# Add docs to the collection. Can also update and delete. Row-based API coming soon!\n",
    "collection.add(\n",
    "    documents=[\"This is document1\", \"This is document2\"], # we embed for you, or bring your own\n",
    "    metadatas=[{\"source\": \"notion\"}, {\"source\": \"google-docs\"}], # filter on arbitrary metadata!\n",
    "    ids=[\"doc1\", \"doc2\"], # must be unique for each doc \n",
    ")\n",
    "\n",
    "results = collection.query(\n",
    "    query_texts=[\"This is a query document\"],\n",
    "    n_results=2,\n",
    "    # where={\"metadata_field\": \"is_equal_to_this\"}, # optional filter\n",
    "    # where_document={\"$contains\":\"search_string\"}  # optional filter\n",
    ")  "
   ]
  }
 ],
 "metadata": {
  "kernelspec": {
   "display_name": "Python 3",
   "language": "python",
   "name": "python3"
  },
  "language_info": {
   "codemirror_mode": {
    "name": "ipython",
    "version": 3
   },
   "file_extension": ".py",
   "mimetype": "text/x-python",
   "name": "python",
   "nbconvert_exporter": "python",
   "pygments_lexer": "ipython3",
   "version": "3.11.8"
  }
 },
 "nbformat": 4,
 "nbformat_minor": 2
}
