{
 "cells": [
  {
   "cell_type": "markdown",
   "metadata": {},
   "source": [
    "# Instituto Tecnológico de Costa Rica\n",
    "## Escuela de Ingeniería en Computación\n",
    "## Inteligencia Artificial\n",
    "\n",
    "### Segundo Proyecto: Chatbot usando RAGS\n",
    "\n",
    "### Profesor:\n",
    "- Kenneth Obando Rodríguez\n",
    "\n",
    "### Estudiantes:\n",
    "- Alonso Garita Granados 2021030220\n",
    "- Sophya Mc Lean Morales 2021461577\n",
    "\n",
    "#### Viernes 09 de junio, I semestre 2024\n",
    "\n",
    "---"
   ]
  },
  {
   "cell_type": "markdown",
   "metadata": {},
   "source": [
    "Derechos de autor:\n",
    "El código para el funcionamiento de Llama3 con HuggingFace se ha implementado siguiendo los pasos de los siguientes videos: https://youtu.be/J7afRW5XEb4?si=8U_aVYFvDTyr07Xs y https://youtu.be/7VAs22LC7WE?si=RDkwhwmD-2OfdN4V "
   ]
  },
  {
   "cell_type": "markdown",
   "metadata": {},
   "source": [
    "# 1.Instalaciones inciales\n",
    "\n",
    "Para el correcto funcionamiento de este proyecto el primer paso es instalar Ollama. \n",
    "1. Se debe descargar de la [página oficial de Ollama](https://ollama.com/download).\n",
    "2. Una vez descargado, se puede ejecutar en la línea de comandos \"ollama pull llama3\" para obtener el modelo específico \"Llama 3\".\n",
    "3. Luego se puede ejecutar el comando \"ollama list\" para verificar que se haya instalado correctamente.\n",
    "4. Se ejecuta el comando \"ollama serve\".\n",
    "5. En otra terminal se ejecuta \"ollama run llama3\".\n",
    "6. Una vez corriendo llama3 se le pueden realizar consultas comunes, por ejemplo: \"¿What is Machine Learning?\".\n",
    "7. Para finalizar puede escribir \"bye\"."
   ]
  },
  {
   "cell_type": "markdown",
   "metadata": {},
   "source": [
    "# 2. Crear la aplicación en Python"
   ]
  },
  {
   "cell_type": "markdown",
   "metadata": {},
   "source": [
    "Primeramente se deben instalar las siguientes cosas:\n",
    "1. Langchain_community\n",
    "2. Flask"
   ]
  },
  {
   "cell_type": "code",
   "execution_count": 3,
   "metadata": {},
   "outputs": [
    {
     "name": "stdout",
     "output_type": "stream",
     "text": [
      "Collecting langchain_community\n",
      "  Downloading langchain_community-0.2.1-py3-none-any.whl (2.1 MB)\n",
      "     ---------------------------------------- 2.1/2.1 MB 1.8 MB/s eta 0:00:00\n",
      "Requirement already satisfied: numpy<2,>=1 in c:\\users\\harrick mc lean m\\appdata\\local\\programs\\python\\python310\\lib\\site-packages (from langchain_community) (1.26.4)\n",
      "Requirement already satisfied: langchain-core<0.3.0,>=0.2.0 in c:\\users\\harrick mc lean m\\appdata\\local\\programs\\python\\python310\\lib\\site-packages (from langchain_community) (0.2.1)\n",
      "Requirement already satisfied: PyYAML>=5.3 in c:\\users\\harrick mc lean m\\appdata\\local\\programs\\python\\python310\\lib\\site-packages (from langchain_community) (6.0.1)\n",
      "Requirement already satisfied: requests<3,>=2 in c:\\users\\harrick mc lean m\\appdata\\local\\programs\\python\\python310\\lib\\site-packages (from langchain_community) (2.32.2)\n",
      "Requirement already satisfied: langchain<0.3.0,>=0.2.0 in c:\\users\\harrick mc lean m\\appdata\\local\\programs\\python\\python310\\lib\\site-packages (from langchain_community) (0.2.1)\n",
      "Requirement already satisfied: aiohttp<4.0.0,>=3.8.3 in c:\\users\\harrick mc lean m\\appdata\\local\\programs\\python\\python310\\lib\\site-packages (from langchain_community) (3.9.5)\n",
      "Requirement already satisfied: langsmith<0.2.0,>=0.1.0 in c:\\users\\harrick mc lean m\\appdata\\local\\programs\\python\\python310\\lib\\site-packages (from langchain_community) (0.1.63)\n",
      "Collecting dataclasses-json<0.7,>=0.5.7\n",
      "  Downloading dataclasses_json-0.6.6-py3-none-any.whl (28 kB)\n",
      "Requirement already satisfied: tenacity<9.0.0,>=8.1.0 in c:\\users\\harrick mc lean m\\appdata\\local\\programs\\python\\python310\\lib\\site-packages (from langchain_community) (8.3.0)\n",
      "Requirement already satisfied: SQLAlchemy<3,>=1.4 in c:\\users\\harrick mc lean m\\appdata\\local\\programs\\python\\python310\\lib\\site-packages (from langchain_community) (2.0.30)\n",
      "Requirement already satisfied: async-timeout<5.0,>=4.0 in c:\\users\\harrick mc lean m\\appdata\\local\\programs\\python\\python310\\lib\\site-packages (from aiohttp<4.0.0,>=3.8.3->langchain_community) (4.0.3)\n",
      "Requirement already satisfied: multidict<7.0,>=4.5 in c:\\users\\harrick mc lean m\\appdata\\local\\programs\\python\\python310\\lib\\site-packages (from aiohttp<4.0.0,>=3.8.3->langchain_community) (6.0.5)\n",
      "Requirement already satisfied: yarl<2.0,>=1.0 in c:\\users\\harrick mc lean m\\appdata\\local\\programs\\python\\python310\\lib\\site-packages (from aiohttp<4.0.0,>=3.8.3->langchain_community) (1.9.4)\n",
      "Requirement already satisfied: aiosignal>=1.1.2 in c:\\users\\harrick mc lean m\\appdata\\local\\programs\\python\\python310\\lib\\site-packages (from aiohttp<4.0.0,>=3.8.3->langchain_community) (1.3.1)\n",
      "Requirement already satisfied: frozenlist>=1.1.1 in c:\\users\\harrick mc lean m\\appdata\\local\\programs\\python\\python310\\lib\\site-packages (from aiohttp<4.0.0,>=3.8.3->langchain_community) (1.4.1)\n",
      "Requirement already satisfied: attrs>=17.3.0 in c:\\users\\harrick mc lean m\\appdata\\local\\programs\\python\\python310\\lib\\site-packages (from aiohttp<4.0.0,>=3.8.3->langchain_community) (23.2.0)\n",
      "Collecting marshmallow<4.0.0,>=3.18.0\n",
      "  Downloading marshmallow-3.21.2-py3-none-any.whl (49 kB)\n",
      "     ---------------------------------------- 49.3/49.3 kB ? eta 0:00:00\n",
      "Collecting typing-inspect<1,>=0.4.0\n",
      "  Downloading typing_inspect-0.9.0-py3-none-any.whl (8.8 kB)\n",
      "Requirement already satisfied: langchain-text-splitters<0.3.0,>=0.2.0 in c:\\users\\harrick mc lean m\\appdata\\local\\programs\\python\\python310\\lib\\site-packages (from langchain<0.3.0,>=0.2.0->langchain_community) (0.2.0)\n",
      "Requirement already satisfied: pydantic<3,>=1 in c:\\users\\harrick mc lean m\\appdata\\local\\programs\\python\\python310\\lib\\site-packages (from langchain<0.3.0,>=0.2.0->langchain_community) (2.7.2)\n",
      "Requirement already satisfied: jsonpatch<2.0,>=1.33 in c:\\users\\harrick mc lean m\\appdata\\local\\programs\\python\\python310\\lib\\site-packages (from langchain-core<0.3.0,>=0.2.0->langchain_community) (1.33)\n",
      "Requirement already satisfied: packaging<24.0,>=23.2 in c:\\users\\harrick mc lean m\\appdata\\local\\programs\\python\\python310\\lib\\site-packages (from langchain-core<0.3.0,>=0.2.0->langchain_community) (23.2)\n",
      "Requirement already satisfied: orjson<4.0.0,>=3.9.14 in c:\\users\\harrick mc lean m\\appdata\\local\\programs\\python\\python310\\lib\\site-packages (from langsmith<0.2.0,>=0.1.0->langchain_community) (3.10.3)\n",
      "Requirement already satisfied: certifi>=2017.4.17 in c:\\users\\harrick mc lean m\\appdata\\local\\programs\\python\\python310\\lib\\site-packages (from requests<3,>=2->langchain_community) (2024.2.2)\n",
      "Requirement already satisfied: urllib3<3,>=1.21.1 in c:\\users\\harrick mc lean m\\appdata\\local\\programs\\python\\python310\\lib\\site-packages (from requests<3,>=2->langchain_community) (2.2.1)\n",
      "Requirement already satisfied: idna<4,>=2.5 in c:\\users\\harrick mc lean m\\appdata\\local\\programs\\python\\python310\\lib\\site-packages (from requests<3,>=2->langchain_community) (3.7)\n",
      "Requirement already satisfied: charset-normalizer<4,>=2 in c:\\users\\harrick mc lean m\\appdata\\local\\programs\\python\\python310\\lib\\site-packages (from requests<3,>=2->langchain_community) (3.3.2)\n",
      "Requirement already satisfied: typing-extensions>=4.6.0 in c:\\users\\harrick mc lean m\\appdata\\local\\programs\\python\\python310\\lib\\site-packages (from SQLAlchemy<3,>=1.4->langchain_community) (4.12.0)\n",
      "Requirement already satisfied: greenlet!=0.4.17 in c:\\users\\harrick mc lean m\\appdata\\local\\programs\\python\\python310\\lib\\site-packages (from SQLAlchemy<3,>=1.4->langchain_community) (3.0.3)\n",
      "Requirement already satisfied: jsonpointer>=1.9 in c:\\users\\harrick mc lean m\\appdata\\local\\programs\\python\\python310\\lib\\site-packages (from jsonpatch<2.0,>=1.33->langchain-core<0.3.0,>=0.2.0->langchain_community) (2.4)\n",
      "Requirement already satisfied: pydantic-core==2.18.3 in c:\\users\\harrick mc lean m\\appdata\\local\\programs\\python\\python310\\lib\\site-packages (from pydantic<3,>=1->langchain<0.3.0,>=0.2.0->langchain_community) (2.18.3)\n",
      "Requirement already satisfied: annotated-types>=0.4.0 in c:\\users\\harrick mc lean m\\appdata\\local\\programs\\python\\python310\\lib\\site-packages (from pydantic<3,>=1->langchain<0.3.0,>=0.2.0->langchain_community) (0.7.0)\n",
      "Collecting mypy-extensions>=0.3.0\n",
      "  Downloading mypy_extensions-1.0.0-py3-none-any.whl (4.7 kB)\n",
      "Installing collected packages: mypy-extensions, marshmallow, typing-inspect, dataclasses-json, langchain_community\n",
      "Successfully installed dataclasses-json-0.6.6 langchain_community-0.2.1 marshmallow-3.21.2 mypy-extensions-1.0.0 typing-inspect-0.9.0\n",
      "Note: you may need to restart the kernel to use updated packages.\n"
     ]
    },
    {
     "name": "stderr",
     "output_type": "stream",
     "text": [
      "\n",
      "[notice] A new release of pip available: 22.3.1 -> 24.0\n",
      "[notice] To update, run: python.exe -m pip install --upgrade pip\n"
     ]
    }
   ],
   "source": [
    "#Se instala lang chain para el funcionamiento del modelo\n",
    "%pip install langchain_community"
   ]
  },
  {
   "cell_type": "code",
   "execution_count": 7,
   "metadata": {},
   "outputs": [
    {
     "name": "stdout",
     "output_type": "stream",
     "text": [
      "Collecting flaskNote: you may need to restart the kernel to use updated packages.\n",
      "\n",
      "  Downloading flask-3.0.3-py3-none-any.whl (101 kB)\n",
      "     ------------------------------------ 101.7/101.7 kB 839.4 kB/s eta 0:00:00\n",
      "Collecting itsdangerous>=2.1.2\n",
      "  Downloading itsdangerous-2.2.0-py3-none-any.whl (16 kB)\n",
      "Requirement already satisfied: click>=8.1.3 in c:\\users\\harrick mc lean m\\appdata\\local\\programs\\python\\python310\\lib\\site-packages (from flask) (8.1.7)\n",
      "Requirement already satisfied: Jinja2>=3.1.2 in c:\\users\\harrick mc lean m\\appdata\\local\\programs\\python\\python310\\lib\\site-packages (from flask) (3.1.4)\n",
      "Collecting Werkzeug>=3.0.0\n",
      "  Downloading werkzeug-3.0.3-py3-none-any.whl (227 kB)\n",
      "     ------------------------------------ 227.3/227.3 kB 772.4 kB/s eta 0:00:00\n",
      "Collecting blinker>=1.6.2\n",
      "  Downloading blinker-1.8.2-py3-none-any.whl (9.5 kB)\n",
      "Requirement already satisfied: colorama in c:\\users\\harrick mc lean m\\appdata\\local\\programs\\python\\python310\\lib\\site-packages (from click>=8.1.3->flask) (0.4.6)\n",
      "Requirement already satisfied: MarkupSafe>=2.0 in c:\\users\\harrick mc lean m\\appdata\\local\\programs\\python\\python310\\lib\\site-packages (from Jinja2>=3.1.2->flask) (2.1.5)\n",
      "Installing collected packages: Werkzeug, itsdangerous, blinker, flask\n",
      "Successfully installed Werkzeug-3.0.3 blinker-1.8.2 flask-3.0.3 itsdangerous-2.2.0\n"
     ]
    },
    {
     "name": "stderr",
     "output_type": "stream",
     "text": [
      "\n",
      "[notice] A new release of pip available: 22.3.1 -> 24.0\n",
      "[notice] To update, run: python.exe -m pip install --upgrade pip\n"
     ]
    }
   ],
   "source": [
    "#Se instala flask para la interfaz del chatbot\n",
    "%pip install flask\n",
    "#Para el embeeding\n",
    "%pip install fastembed\n",
    "#Para tratamiento de los pdf\n",
    "%pip install pdfplumber\n",
    "#Para la base de datos\n",
    "%pip install chromadb"
   ]
  },
  {
   "cell_type": "code",
   "execution_count": 6,
   "metadata": {},
   "outputs": [
    {
     "name": "stdout",
     "output_type": "stream",
     "text": [
      "¡Claro! Aquí te dejo uno:\n",
      "\n",
      "¿Por qué la computadora fue al psicólogo?\n",
      "\n",
      "Porque tenía una \"mal-formación\"!\n",
      "\n",
      "¿Te gustó?\n"
     ]
    }
   ],
   "source": [
    "#En el video esto se muestra en app.py\n",
    "\n",
    "from langchain_community.llms import Ollama\n",
    "\n",
    "llm = Ollama(model=\"llama3\")\n",
    "response = llm.invoke(\"Dime un chiste en español\")\n",
    "\n",
    "print(response)\n"
   ]
  },
  {
   "cell_type": "code",
   "execution_count": 10,
   "metadata": {},
   "outputs": [
    {
     "name": "stdout",
     "output_type": "stream",
     "text": [
      " * Serving Flask app '__main__'\n",
      " * Debug mode: on\n"
     ]
    },
    {
     "name": "stderr",
     "output_type": "stream",
     "text": [
      "WARNING: This is a development server. Do not use it in a production deployment. Use a production WSGI server instead.\n",
      " * Running on all addresses (0.0.0.0)\n",
      " * Running on http://127.0.0.1:8080\n",
      " * Running on http://192.168.1.13:8080\n",
      "Press CTRL+C to quit\n",
      " * Restarting with stat\n"
     ]
    },
    {
     "ename": "SystemExit",
     "evalue": "1",
     "output_type": "error",
     "traceback": [
      "An exception has occurred, use %tb to see the full traceback.\n",
      "\u001b[1;31mSystemExit\u001b[0m\u001b[1;31m:\u001b[0m 1\n"
     ]
    },
    {
     "name": "stderr",
     "output_type": "stream",
     "text": [
      "C:\\Users\\Harrick Mc Lean M\\AppData\\Roaming\\Python\\Python310\\site-packages\\IPython\\core\\interactiveshell.py:3585: UserWarning: To exit: use 'exit', 'quit', or Ctrl-D.\n",
      "  warn(\"To exit: use 'exit', 'quit', or Ctrl-D.\", stacklevel=1)\n"
     ]
    }
   ],
   "source": [
    "# Importar FLASK para el funcionamiento de la interfaz\n",
    "from flask import Flask,request\n",
    "app = Flask(__name__)\n",
    "cached_llm = Ollama(model = \"llama3\")\n",
    "\n",
    "@app.route(\"/ai\",methods=[\"POST\"])\n",
    "def aiPost():\n",
    "    print(\"Post /ai called\")\n",
    "    json_content = request.json\n",
    "    query = json_content.get(\"query\")\n",
    "\n",
    "    print(f\"query: {query}\")\n",
    "    response = cached_llm.invoke(query)\n",
    "\n",
    "    print(response)\n",
    "\n",
    "    response_answer = {\"answer\":response}\n",
    "    return response_answer\n",
    "\n",
    "\n",
    "def start_app():\n",
    "    app.run(host=\"0.0.0.0\",port=8080,debug=True)\n",
    "if __name__ == \"__main__\":\n",
    "    start_app()"
   ]
  }
 ],
 "metadata": {
  "kernelspec": {
   "display_name": "Python 3",
   "language": "python",
   "name": "python3"
  },
  "language_info": {
   "codemirror_mode": {
    "name": "ipython",
    "version": 3
   },
   "file_extension": ".py",
   "mimetype": "text/x-python",
   "name": "python",
   "nbconvert_exporter": "python",
   "pygments_lexer": "ipython3",
   "version": "3.10.11"
  }
 },
 "nbformat": 4,
 "nbformat_minor": 2
}
